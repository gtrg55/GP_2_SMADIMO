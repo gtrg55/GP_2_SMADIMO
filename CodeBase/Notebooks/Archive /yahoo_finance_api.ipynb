{
  "cells": [
    {
      "cell_type": "code",
      "execution_count": 1,
      "metadata": {
        "colab": {
          "base_uri": "https://localhost:8080/"
        },
        "id": "R2zx_G61Fmsw",
        "outputId": "9f27cc16-2680-4b23-cfe2-2f23199a5266"
      },
      "outputs": [
        {
          "output_type": "stream",
          "name": "stderr",
          "text": [
            "INFO:root:Получение данных по: RUB=X\n",
            "INFO:root:Данные RUB=X получены успешно.\n",
            "INFO:root:Получение данных по: GC=F\n",
            "INFO:root:Данные GC=F получены успешно.\n",
            "INFO:root:Получение данных по: CNY=X\n",
            "INFO:root:Данные CNY=X получены успешно.\n",
            "INFO:root:Получение данных по: CL=F\n",
            "INFO:root:Данные CL=F получены успешно.\n",
            "INFO:root:Получение данных по: ES=F\n",
            "INFO:root:Данные ES=F получены успешно.\n"
          ]
        }
      ],
      "source": [
        "import datetime\n",
        "import requests\n",
        "import pandas as pd\n",
        "import logging\n",
        "\n",
        "logger = logging.getLogger()\n",
        "logger.setLevel(logging.INFO)\n",
        "\n",
        "file_handler = logging.FileHandler(\"logfile1.log\")\n",
        "formatter = logging.Formatter(\"%(asctime)s %(levelname)s:%(message)s\")\n",
        "file_handler.setFormatter(formatter)\n",
        "\n",
        "logger.addHandler(file_handler)\n",
        "\n",
        "start_timestamp = int(datetime.datetime(2022, 3, 3).timestamp())\n",
        "end_timestamp = int(datetime.datetime.now().timestamp())\n",
        "\n",
        "symbols = [\n",
        "    'RUB=X', # USD/RUB (RUB=X)\n",
        "    'GC=F', # Gold (GC=F)\n",
        "    'CNY=X', # USD/CNY (CNY=X)\n",
        "    'CL=F', # Crude Oil (CL=F)\n",
        "    'ES=F', # E-Mini S&P 500 (ES=F)\n",
        "]\n",
        "\n",
        "all_data = pd.DataFrame()\n",
        "\n",
        "for symbol in symbols:\n",
        "    logging.info(f\"Получение данных по: {symbol}\")\n",
        "\n",
        "    try:\n",
        "        resp = requests.get(\n",
        "            f'https://query1.finance.yahoo.com/v8/finance/chart/{symbol}',\n",
        "            headers = {'User-Agent': 'Mozilla/5.0 (Windows NT 10.0; WOW64; rv:45.0) Gecko/20100101 Firefox/45.0'},\n",
        "            params = {'period1': start_timestamp, 'period2': end_timestamp, 'interval': '1d'},\n",
        "        ).json()['chart']['result'][0]\n",
        "\n",
        "        df = pd.DataFrame({\n",
        "            'date': pd.to_datetime(resp['timestamp'], unit='s').normalize(), # .normalize для приведения временных меток к полуночи\n",
        "            symbol: resp['indicators']['adjclose'][0]['adjclose']\n",
        "        })\n",
        "\n",
        "        logging.info(f\"Данные {symbol} получены успешно.\")\n",
        "\n",
        "        if all_data.empty:\n",
        "            all_data = df\n",
        "        else:\n",
        "            all_data = pd.merge(all_data, df, on='date', how='outer')\n",
        "\n",
        "    except Exception as e:\n",
        "        logging.error(f\"Ошибка при получении данных по {symbol}: {e}\")\n",
        "\n",
        "all_data = all_data.sort_values('date').reset_index(drop=True)\n",
        "\n",
        "all_data.to_csv(\"yahoo_finance_dataset.csv\", index=False)\n"
      ]
    },
    {
      "cell_type": "markdown",
      "metadata": {
        "id": "L3jCb_FeFmsy"
      },
      "source": []
    }
  ],
  "metadata": {
    "kernelspec": {
      "display_name": ".venv",
      "language": "python",
      "name": "python3"
    },
    "language_info": {
      "codemirror_mode": {
        "name": "ipython",
        "version": 3
      },
      "file_extension": ".py",
      "mimetype": "text/x-python",
      "name": "python",
      "nbconvert_exporter": "python",
      "pygments_lexer": "ipython3",
      "version": "3.13.1"
    },
    "colab": {
      "provenance": []
    }
  },
  "nbformat": 4,
  "nbformat_minor": 0
}